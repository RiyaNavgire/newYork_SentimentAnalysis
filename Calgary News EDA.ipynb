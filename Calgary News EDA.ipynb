{
 "cells": [
  {
   "cell_type": "code",
   "execution_count": 5,
   "id": "9bd03786",
   "metadata": {},
   "outputs": [],
   "source": [
    "import pandas as pd\n",
    "import numpy as np\n",
    "import json"
   ]
  },
  {
   "cell_type": "code",
   "execution_count": 32,
   "id": "22db1a18",
   "metadata": {},
   "outputs": [],
   "source": [
    "#using encoding utf-8\n",
    "df = pd.read_json(\"D://MLProjectNeuron//dataTrials//calgary_news_artifact//data_ingestion//20230127_151033//downloaded_files//news.json\",encoding= 'ISO-8859-1')"
   ]
  },
  {
   "cell_type": "code",
   "execution_count": 30,
   "id": "fa9f31c3",
   "metadata": {},
   "outputs": [],
   "source": [
    "#using encoding ISO-8859-1\n",
    "df = pd.read_json(\"D://MLProjectNeuron//dataTrials//calgary_news_artifact//data_ingestion//20230127_151033//downloaded_files//news.json\",encoding= 'ISO-8859-1')"
   ]
  },
  {
   "cell_type": "code",
   "execution_count": 33,
   "id": "298c4536",
   "metadata": {},
   "outputs": [
    {
     "data": {
      "text/html": [
       "<div>\n",
       "<style scoped>\n",
       "    .dataframe tbody tr th:only-of-type {\n",
       "        vertical-align: middle;\n",
       "    }\n",
       "\n",
       "    .dataframe tbody tr th {\n",
       "        vertical-align: top;\n",
       "    }\n",
       "\n",
       "    .dataframe thead th {\n",
       "        text-align: right;\n",
       "    }\n",
       "</style>\n",
       "<table border=\"1\" class=\"dataframe\">\n",
       "  <thead>\n",
       "    <tr style=\"text-align: right;\">\n",
       "      <th></th>\n",
       "      <th>title</th>\n",
       "      <th>pubdate</th>\n",
       "      <th>link</th>\n",
       "    </tr>\n",
       "  </thead>\n",
       "  <tbody>\n",
       "    <tr>\n",
       "      <th>0</th>\n",
       "      <td>Police charge man and search for woman involve...</td>\n",
       "      <td>2023-01-26T14:10:37.000</td>\n",
       "      <td>{'url': 'https://newsroom.calgary.ca/police-ch...</td>\n",
       "    </tr>\n",
       "    <tr>\n",
       "      <th>1</th>\n",
       "      <td>Students urged to help reimagine downtown plac...</td>\n",
       "      <td>2023-01-26T11:54:18.000</td>\n",
       "      <td>{'url': 'https://newsroom.calgary.ca/students-...</td>\n",
       "    </tr>\n",
       "    <tr>\n",
       "      <th>2</th>\n",
       "      <td>Calgarys development and construction industr...</td>\n",
       "      <td>2023-01-26T10:56:57.000</td>\n",
       "      <td>{'url': 'https://newsroom.calgary.ca/calgarys-...</td>\n",
       "    </tr>\n",
       "    <tr>\n",
       "      <th>3</th>\n",
       "      <td>The City welcomes innovative food rescue and f...</td>\n",
       "      <td>2023-01-26T09:00:00.000</td>\n",
       "      <td>{'url': 'https://newsroom.calgary.ca/the-city-...</td>\n",
       "    </tr>\n",
       "    <tr>\n",
       "      <th>4</th>\n",
       "      <td>Two individuals wanted on warrants in relation...</td>\n",
       "      <td>2023-01-25T16:40:21.000</td>\n",
       "      <td>{'url': 'https://newsroom.calgary.ca/two-indiv...</td>\n",
       "    </tr>\n",
       "  </tbody>\n",
       "</table>\n",
       "</div>"
      ],
      "text/plain": [
       "                                               title                  pubdate  \\\n",
       "0  Police charge man and search for woman involve...  2023-01-26T14:10:37.000   \n",
       "1  Students urged to help reimagine downtown plac...  2023-01-26T11:54:18.000   \n",
       "2  Calgarys development and construction industr...  2023-01-26T10:56:57.000   \n",
       "3  The City welcomes innovative food rescue and f...  2023-01-26T09:00:00.000   \n",
       "4  Two individuals wanted on warrants in relation...  2023-01-25T16:40:21.000   \n",
       "\n",
       "                                                link  \n",
       "0  {'url': 'https://newsroom.calgary.ca/police-ch...  \n",
       "1  {'url': 'https://newsroom.calgary.ca/students-...  \n",
       "2  {'url': 'https://newsroom.calgary.ca/calgarys-...  \n",
       "3  {'url': 'https://newsroom.calgary.ca/the-city-...  \n",
       "4  {'url': 'https://newsroom.calgary.ca/two-indiv...  "
      ]
     },
     "execution_count": 33,
     "metadata": {},
     "output_type": "execute_result"
    }
   ],
   "source": [
    "df.head(5)"
   ]
  },
  {
   "cell_type": "markdown",
   "id": "ebe2380e",
   "metadata": {},
   "source": [
    "# BOTH ENCODINGs are unable to handle special characters"
   ]
  },
  {
   "cell_type": "code",
   "execution_count": null,
   "id": "748bd0c9",
   "metadata": {},
   "outputs": [],
   "source": []
  }
 ],
 "metadata": {
  "kernelspec": {
   "display_name": "Python 3 (ipykernel)",
   "language": "python",
   "name": "python3"
  },
  "language_info": {
   "codemirror_mode": {
    "name": "ipython",
    "version": 3
   },
   "file_extension": ".py",
   "mimetype": "text/x-python",
   "name": "python",
   "nbconvert_exporter": "python",
   "pygments_lexer": "ipython3",
   "version": "3.8.3"
  }
 },
 "nbformat": 4,
 "nbformat_minor": 5
}
